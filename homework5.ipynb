{
 "cells": [
  {
   "cell_type": "code",
   "execution_count": 177,
   "id": "35cbcb90-9ad2-4aa4-8251-ce997043de33",
   "metadata": {},
   "outputs": [],
   "source": [
    "import numpy as np"
   ]
  },
  {
   "cell_type": "code",
   "execution_count": 179,
   "id": "2b166482-7877-493e-9d2c-6ec97f0f8940",
   "metadata": {},
   "outputs": [
    {
     "data": {
      "text/plain": [
       "[array([5, 7, 9]), array([7, 7, 7])]"
      ]
     },
     "execution_count": 179,
     "metadata": {},
     "output_type": "execute_result"
    }
   ],
   "source": [
    "#1 -- The odd ones\n",
    "#You’ve come across a dataset of star magnitudes (brightnesses) from various stellar clusters. \n",
    "#For your interstellar research, you only care about clusters where every star's magnitude is odd.\n",
    "#Given a 2D array, write a function to find the rows where ALL values are odd numbers.\n",
    "\n",
    "def odd_ones(dataset):\n",
    "    odd_ones = []\n",
    "    for row in dataset:\n",
    "        if all(items % 2 != 0 for items in row): \n",
    "            odd_ones.append(row)\n",
    "    return (odd_ones)\n",
    "arr = np.array([[1, 2, 3], [5, 7, 9], [2, 4, 6], [7, 7, 7]])\n",
    "odd_ones(arr)"
   ]
  },
  {
   "cell_type": "code",
   "execution_count": 181,
   "id": "7bdade04-b4ac-43b8-ac9e-bbf84122baf1",
   "metadata": {},
   "outputs": [
    {
     "data": {
      "text/plain": [
       "array([[0, 0, 0, 0, 0, 0, 0, 0],\n",
       "       [0, 0, 0, 0, 0, 0, 0, 0],\n",
       "       [0, 0, 0, 0, 0, 0, 0, 0],\n",
       "       [0, 0, 0, 0, 0, 0, 0, 0],\n",
       "       [0, 0, 0, 0, 0, 0, 0, 0],\n",
       "       [0, 0, 0, 0, 0, 0, 0, 0],\n",
       "       [0, 0, 0, 0, 0, 0, 0, 0],\n",
       "       [0, 0, 0, 0, 0, 0, 0, 0]])"
      ]
     },
     "execution_count": 181,
     "metadata": {},
     "output_type": "execute_result"
    }
   ],
   "source": [
    "#2 -- Let’s play Checkers!\n",
    "#You’ve decided to take a break from your cutting-edge research and play checkers with your friends.\n",
    "#Unfortunately, there is no checkerboard in sight! Therefore you must create one yourself\n",
    "\n",
    "#2.1 Start by writing a function that creates a 8x8 square matrix with only zeros.\n",
    "def checkerboard():\n",
    "    return np.zeros((8, 8), dtype=int)  \n",
    "    \n",
    "checkerboard()"
   ]
  },
  {
   "cell_type": "code",
   "execution_count": 183,
   "id": "db1a532f-17c8-418d-888d-51cdf0a0406a",
   "metadata": {},
   "outputs": [
    {
     "data": {
      "text/plain": [
       "array([[1, 0, 1, 0, 1, 0, 1, 0],\n",
       "       [0, 0, 0, 0, 0, 0, 0, 0],\n",
       "       [1, 0, 1, 0, 1, 0, 1, 0],\n",
       "       [0, 0, 0, 0, 0, 0, 0, 0],\n",
       "       [1, 0, 1, 0, 1, 0, 1, 0],\n",
       "       [0, 0, 0, 0, 0, 0, 0, 0],\n",
       "       [1, 0, 1, 0, 1, 0, 1, 0],\n",
       "       [0, 0, 0, 0, 0, 0, 0, 0]])"
      ]
     },
     "execution_count": 183,
     "metadata": {},
     "output_type": "execute_result"
    }
   ],
   "source": [
    "#2.2--For only the odd rows, make an alternating pattern of ones and zeros\n",
    "def checkerboard_odd():\n",
    "    odd_rows = np.zeros((8,8), dtype=int)\n",
    "    odd_rows[::2, ::2] = 1\n",
    "    return odd_rows\n",
    "    \n",
    "checkerboard_odd()"
   ]
  },
  {
   "cell_type": "code",
   "execution_count": 185,
   "id": "04cb6598-90c9-49aa-9f3b-e9042a70f6b9",
   "metadata": {},
   "outputs": [
    {
     "data": {
      "text/plain": [
       "array([[1, 0, 1, 0, 1, 0, 1, 0],\n",
       "       [0, 1, 0, 1, 0, 1, 0, 1],\n",
       "       [1, 0, 1, 0, 1, 0, 1, 0],\n",
       "       [0, 1, 0, 1, 0, 1, 0, 1],\n",
       "       [1, 0, 1, 0, 1, 0, 1, 0],\n",
       "       [0, 1, 0, 1, 0, 1, 0, 1],\n",
       "       [1, 0, 1, 0, 1, 0, 1, 0],\n",
       "       [0, 1, 0, 1, 0, 1, 0, 1]])"
      ]
     },
     "execution_count": 185,
     "metadata": {},
     "output_type": "execute_result"
    }
   ],
   "source": [
    "#2.3 -- Finish the checkerboard with the even rows.\n",
    "def checkerboard_all():\n",
    "    all_rows = np.zeros((8,8), dtype=int)\n",
    "    all_rows[::2, ::2] = 1\n",
    "    all_rows[1::2, 1::2] = 1\n",
    "    return all_rows\n",
    "    \n",
    "checkerboard_all()"
   ]
  },
  {
   "cell_type": "code",
   "execution_count": 187,
   "id": "574e1dd2-a2a8-4f71-9b51-c54abc751b4a",
   "metadata": {},
   "outputs": [
    {
     "data": {
      "text/plain": [
       "array([[0, 1, 0, 1, 0, 1, 0, 1],\n",
       "       [1, 0, 1, 0, 1, 0, 1, 0],\n",
       "       [0, 1, 0, 1, 0, 1, 0, 1],\n",
       "       [1, 0, 1, 0, 1, 0, 1, 0],\n",
       "       [0, 1, 0, 1, 0, 1, 0, 1],\n",
       "       [1, 0, 1, 0, 1, 0, 1, 0],\n",
       "       [0, 1, 0, 1, 0, 1, 0, 1],\n",
       "       [1, 0, 1, 0, 1, 0, 1, 0]])"
      ]
     },
     "execution_count": 187,
     "metadata": {},
     "output_type": "execute_result"
    }
   ],
   "source": [
    "#2.4--Re-write your function such that the checkerboard begins with a 0 instead.\n",
    "def checkerboard_zero():\n",
    "    all_rows = np.zeros((8,8), dtype=int)\n",
    "    all_rows[1::2, ::2] = 1\n",
    "    all_rows[0::2, 1::2] = 1\n",
    "    return all_rows\n",
    "    \n",
    "checkerboard_zero()\n"
   ]
  },
  {
   "cell_type": "code",
   "execution_count": 381,
   "id": "f946d71a-165c-496e-aca3-03e8953e8cab",
   "metadata": {},
   "outputs": [
    {
     "data": {
      "text/plain": [
       "'g       a       l       a       x       y       c       l       u       s       t       e       r       s       '"
      ]
     },
     "execution_count": 381,
     "metadata": {},
     "output_type": "execute_result"
    }
   ],
   "source": [
    "#3--The Expanding Universe\n",
    "#You have now become fascinated with how dark energy is making galaxies accelerate away from us. \n",
    "#Write a function that takes in a string and a number,\n",
    "#and returns the string with the specified number of spaces inserted between each letter, simulating the expansion of space!\n",
    "def expansion(string, space_number):\n",
    "    space_str = ''\n",
    "    for i in string:\n",
    "        space_str += (' ' * space_number).join(i)\n",
    "        space_str += ' ' * space_number\n",
    "    return space_str \n",
    "universe = np.array(['galaxy','clusters']) \n",
    "expansion(universe, 7)\n",
    "    "
   ]
  },
  {
   "cell_type": "code",
   "execution_count": 195,
   "id": "2e4ff6ac-4518-47f9-a6d4-2392e8c21eda",
   "metadata": {},
   "outputs": [
    {
     "data": {
      "text/plain": [
       "array([566, 535, 960, 714, 230])"
      ]
     },
     "execution_count": 195,
     "metadata": {},
     "output_type": "execute_result"
    }
   ],
   "source": [
    "#4 -- While studying exoplanets, you decide to identify only the second-largest planet in each system. \n",
    "#Write a function that takes a 2D numpy array and returns an array containing only the second-largest value in each column (system)\n",
    "def SecondLargest(planets):\n",
    "    sort_numbers = np.sort(planets, axis=0) [::-1]\n",
    "    second_largest = sort_numbers[1]\n",
    "    return second_largest\n",
    "\n",
    "np.random.seed(42)\n",
    "planets = np.random.randint(100, 1000, (5, 5))\n",
    "SecondLargest(planets)\n",
    "\n"
   ]
  },
  {
   "cell_type": "code",
   "execution_count": null,
   "id": "15c568a6-ab13-4519-ac96-ac9b06646a7a",
   "metadata": {},
   "outputs": [],
   "source": []
  }
 ],
 "metadata": {
  "kernelspec": {
   "display_name": "Python 3 (ipykernel)",
   "language": "python",
   "name": "python3"
  },
  "language_info": {
   "codemirror_mode": {
    "name": "ipython",
    "version": 3
   },
   "file_extension": ".py",
   "mimetype": "text/x-python",
   "name": "python",
   "nbconvert_exporter": "python",
   "pygments_lexer": "ipython3",
   "version": "3.12.4"
  }
 },
 "nbformat": 4,
 "nbformat_minor": 5
}
